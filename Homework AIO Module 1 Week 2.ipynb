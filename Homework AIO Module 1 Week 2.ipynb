{
 "cells": [
  {
   "cell_type": "code",
   "execution_count": 1,
   "metadata": {},
   "outputs": [
    {
     "name": "stdout",
     "output_type": "stream",
     "text": [
      "[5, 5, 5, 5, 10, 12, 33]\n"
     ]
    }
   ],
   "source": [
    "data = [3, 4, 5, 1, -44 , 5 ,10, 12 ,33, 1]\n",
    "length = len(data)\n",
    "def sliding_window (data, k):\n",
    "    list = []\n",
    "    for i in range(length - k):         # Dinh nghia ham sliding window\n",
    "        sliding = data[i:i+k]           # Moi window co k phan tu\n",
    "        max_value = [max(sliding)]      # Chon max cua moi window\n",
    "        list = list + max_value         # Chon vong lap\n",
    "    return list\n",
    "\n",
    "data = [3, 4, 5, 1, -44 , 5 ,10, 12 ,33, 1]\n",
    "k = 3\n",
    "print (sliding_window(data, k))\n"
   ]
  },
  {
   "cell_type": "code",
   "execution_count": 5,
   "metadata": {},
   "outputs": [],
   "source": [
    "words = input (\"Enter a word: \")\n",
    "def char_check (words):\n",
    "    count_character = {}\n",
    "    for character in words:\n",
    "        if character in count_character:\n",
    "            count_character[character] += 1\n",
    "        else:\n",
    "            count_character[character] = 1\n",
    "\n",
    "    return count_character\n",
    "\n",
    "\n",
    "print (char_check(words))\n"
   ]
  },
  {
   "cell_type": "code",
   "execution_count": 7,
   "metadata": {},
   "outputs": [
    {
     "name": "stdout",
     "output_type": "stream",
     "text": [
      "File not Found: /content/P1_data.txt\n",
      "{}\n"
     ]
    },
    {
     "name": "stderr",
     "output_type": "stream",
     "text": [
      "'gdown' is not recognized as an internal or external command,\n",
      "operable program or batch file.\n"
     ]
    }
   ],
   "source": [
    "!gdown https://drive.google.com/uc?id=1IBScGdW2xlNsc9v5zSAya548kNgiOrko\n",
    "def count_words(file_path): #Define the function\n",
    "    word_count = {}         #Create a dictionary to store the frequencies of words count\n",
    "\n",
    "    try:\n",
    "        with open(file_path, 'r', encoding='utf-8') as file: #Using 'with' to open the files\n",
    "            for line in file:\n",
    "                words = line.strip().split() #Strip() remove space, while split() turn the lin into words\n",
    "                for word in words:\n",
    "                    word = word.lower() #Turn all words into lowercase\n",
    "                    if word in word_count:\n",
    "                        word_count[word] += 1\n",
    "                    else:\n",
    "                        word_count[word] = 1\n",
    "    except FileNotFoundError:\n",
    "        print(f\"File not Found: {file_path}\")\n",
    "        return {}\n",
    "\n",
    "    return word_count\n",
    "\n",
    "# Sử dụng hàm\n",
    "file_path = '/content/P1_data.txt'  # Paste links to document\n",
    "result = count_words(file_path)\n",
    "print(result)"
   ]
  },
  {
   "cell_type": "code",
   "execution_count": 4,
   "metadata": {},
   "outputs": [
    {
     "name": "stdout",
     "output_type": "stream",
     "text": [
      " Levenshtein gap between 'kitten' and 'sitting' is: 3\n"
     ]
    }
   ],
   "source": [
    "\n",
    "def levenshtein_distance(str1, str2):\n",
    "    # Create a matrix\n",
    "    m, n = len(str1), len(str2)\n",
    "    dp = [[0] * (n + 1) for _ in range(m + 1)]\n",
    "\n",
    "    # Fill intial values for matrix\n",
    "    for i in range(m + 1):\n",
    "        dp[i][0] = i\n",
    "    for j in range(n + 1):\n",
    "        dp[0][j] = j\n",
    "\n",
    "    # Calculate Levenshtein\n",
    "    for i in range(1, m + 1):\n",
    "        for j in range(1, n + 1):\n",
    "            if str1[i - 1] == str2[j - 1]:\n",
    "                dp[i][j] = dp[i - 1][j - 1]\n",
    "            else:\n",
    "                dp[i][j] = 1 + min(dp[i - 1][j],      # Del\n",
    "                                   dp[i][j - 1],      # Append\n",
    "                                   dp[i - 1][j - 1])  # Replace\n",
    "\n",
    "    return dp[m][n]\n",
    "\n",
    "#Test\n",
    "str1 = \"kitten\"\n",
    "str2 = \"sitting\"\n",
    "distance = levenshtein_distance(str1, str2)\n",
    "print(f\" Levenshtein gap between '{str1}' and '{str2}' is: {distance}\")"
   ]
  }
 ],
 "metadata": {
  "kernelspec": {
   "display_name": "Python 3",
   "language": "python",
   "name": "python3"
  },
  "language_info": {
   "codemirror_mode": {
    "name": "ipython",
    "version": 3
   },
   "file_extension": ".py",
   "mimetype": "text/x-python",
   "name": "python",
   "nbconvert_exporter": "python",
   "pygments_lexer": "ipython3",
   "version": "3.12.4"
  }
 },
 "nbformat": 4,
 "nbformat_minor": 2
}
