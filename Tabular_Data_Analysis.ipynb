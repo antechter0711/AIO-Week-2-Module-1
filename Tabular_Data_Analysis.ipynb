{
  "nbformat": 4,
  "nbformat_minor": 0,
  "metadata": {
    "colab": {
      "provenance": [],
      "authorship_tag": "ABX9TyOqJKHAjFRg8dE5h3P6fVMF",
      "include_colab_link": true
    },
    "kernelspec": {
      "name": "python3",
      "display_name": "Python 3"
    },
    "language_info": {
      "name": "python"
    }
  },
  "cells": [
    {
      "cell_type": "markdown",
      "metadata": {
        "id": "view-in-github",
        "colab_type": "text"
      },
      "source": [
        "<a href=\"https://colab.research.google.com/github/antechter0711/AIO-Week-2-Module-1/blob/main/Tabular_Data_Analysis.ipynb\" target=\"_parent\"><img src=\"https://colab.research.google.com/assets/colab-badge.svg\" alt=\"Open In Colab\"/></a>"
      ]
    },
    {
      "cell_type": "code",
      "execution_count": 2,
      "metadata": {
        "colab": {
          "base_uri": "https://localhost:8080/"
        },
        "id": "6IYMOyG3Xtvo",
        "outputId": "ac82541f-d1af-4d8c-89eb-9ebf5bd96daa"
      },
      "outputs": [
        {
          "output_type": "stream",
          "name": "stdout",
          "text": [
            "Downloading...\n",
            "From: https://drive.google.com/uc?id=1iA0WmVfW88HyJvTBSQDI5vesf-pgKabq\n",
            "To: /content/advertising.csv\n",
            "\r  0% 0.00/4.06k [00:00<?, ?B/s]\r100% 4.06k/4.06k [00:00<00:00, 6.56MB/s]\n"
          ]
        }
      ],
      "source": [
        "!gdown 1iA0WmVfW88HyJvTBSQDI5vesf-pgKabq"
      ]
    },
    {
      "cell_type": "code",
      "source": [
        "import pandas as pd\n",
        "\n",
        "# Đọc tệp CSV vào pandas DataFrame\n",
        "df = pd.read_csv('/content/advertising.csv')\n",
        "\n",
        "data = df.to_numpy()\n",
        "\n",
        "data = data[:5]\n",
        "data"
      ],
      "metadata": {
        "colab": {
          "base_uri": "https://localhost:8080/"
        },
        "id": "RVucYYMWZjXH",
        "outputId": "a6412589-819b-418c-d6c5-f6b8050d5b8b"
      },
      "execution_count": 3,
      "outputs": [
        {
          "output_type": "execute_result",
          "data": {
            "text/plain": [
              "array([[230.1,  37.8,  69.2,  22.1],\n",
              "       [ 44.5,  39.3,  45.1,  10.4],\n",
              "       [ 17.2,  45.9,  69.3,  12. ],\n",
              "       [151.5,  41.3,  58.5,  16.5],\n",
              "       [180.8,  10.8,  58.4,  17.9]])"
            ]
          },
          "metadata": {},
          "execution_count": 3
        }
      ]
    },
    {
      "cell_type": "code",
      "source": [
        "import numpy as np\n",
        "sales_data = data[:, 3]\n",
        "sales_max = np.max(sales_data)\n",
        "\n",
        "sales_idx = np.argmax(sales_data)\n",
        "sales_max, sales_idx\n"
      ],
      "metadata": {
        "colab": {
          "base_uri": "https://localhost:8080/"
        },
        "id": "lx7TFDRPhS2D",
        "outputId": "030d0318-7770-4827-de36-adb8e927a9f5"
      },
      "execution_count": 7,
      "outputs": [
        {
          "output_type": "execute_result",
          "data": {
            "text/plain": [
              "(22.1, 0)"
            ]
          },
          "metadata": {},
          "execution_count": 7
        }
      ]
    },
    {
      "cell_type": "code",
      "source": [
        "tv_mean = data[:, 0].mean()\n",
        "tv_mean\n"
      ],
      "metadata": {
        "colab": {
          "base_uri": "https://localhost:8080/"
        },
        "id": "zXo5-FYyhaAp",
        "outputId": "7fa3ce62-adce-4075-b604-ffe186c66f7c"
      },
      "execution_count": 6,
      "outputs": [
        {
          "output_type": "execute_result",
          "data": {
            "text/plain": [
              "124.82000000000001"
            ]
          },
          "metadata": {},
          "execution_count": 6
        }
      ]
    },
    {
      "cell_type": "code",
      "source": [
        "sale_cond = data[:, 3] >= 15.0\n",
        "radio_data = data[:, 1]\n",
        "\n",
        "radio_cond = radio_data * sale_cond\n",
        "radio_mean = np.sum(radio_cond) / np.sum(sale_cond)\n",
        "\n",
        "radio_mean\n"
      ],
      "metadata": {
        "colab": {
          "base_uri": "https://localhost:8080/"
        },
        "id": "rrZKev_ziFjJ",
        "outputId": "5f77176b-1770-400f-c9c6-40c5a70a0b69"
      },
      "execution_count": 8,
      "outputs": [
        {
          "output_type": "execute_result",
          "data": {
            "text/plain": [
              "29.966666666666665"
            ]
          },
          "metadata": {},
          "execution_count": 8
        }
      ]
    },
    {
      "cell_type": "code",
      "source": [
        "newspaper_data = data[:, 2]\n",
        "newspaper_mean = newspaper_data.mean()\n",
        "\n",
        "newspaper_cond = newspaper_data > newspaper_mean\n",
        "sales_data = data[:, 3]\n",
        "\n",
        "sales_cond = sales_data * newspaper_cond\n",
        "sales_sum = np.sum(sales_cond)\n",
        "\n",
        "sales_sum\n"
      ],
      "metadata": {
        "colab": {
          "base_uri": "https://localhost:8080/"
        },
        "id": "3OfjorQoioaM",
        "outputId": "26d002d5-9478-4caf-c55a-77274894577a"
      },
      "execution_count": 9,
      "outputs": [
        {
          "output_type": "execute_result",
          "data": {
            "text/plain": [
              "34.1"
            ]
          },
          "metadata": {},
          "execution_count": 9
        }
      ]
    },
    {
      "cell_type": "code",
      "source": [
        "sales_data = data[:, 3]\n",
        "sales_mean = sales_data.mean()\n",
        "score_sales = np.where(\n",
        "    sales_data < sales_mean,\n",
        "    \"Bad\",\n",
        "    np.where(sales_data > sales_mean, \"Good\", \"Average\")\n",
        ")\n",
        "score_sales"
      ],
      "metadata": {
        "colab": {
          "base_uri": "https://localhost:8080/"
        },
        "id": "i-0fV9cni4fJ",
        "outputId": "fd6b5d76-a774-4d16-836a-28d2785056e7"
      },
      "execution_count": 10,
      "outputs": [
        {
          "output_type": "execute_result",
          "data": {
            "text/plain": [
              "array(['Good', 'Bad', 'Bad', 'Good', 'Good'], dtype='<U7')"
            ]
          },
          "metadata": {},
          "execution_count": 10
        }
      ]
    },
    {
      "cell_type": "code",
      "source": [
        "sale_cond = data[:, 3] >= 15.0\n",
        "radio_data = data[:, 1]\n",
        "\n",
        "radio_cond = radio_data * sale_cond\n",
        "radio_mean = np.sum(radio_cond) / np.sum(sale_cond)\n",
        "\n",
        "radio_mean\n"
      ],
      "metadata": {
        "colab": {
          "base_uri": "https://localhost:8080/"
        },
        "id": "_m3ZET6Di7Qx",
        "outputId": "90fab3aa-00f4-4163-c51b-b3f2387d1d16"
      },
      "execution_count": 11,
      "outputs": [
        {
          "output_type": "execute_result",
          "data": {
            "text/plain": [
              "29.966666666666665"
            ]
          },
          "metadata": {},
          "execution_count": 11
        }
      ]
    },
    {
      "cell_type": "code",
      "source": [
        "sales_data = data[:, 3]\n",
        "sales_mean = sales_data.mean()\n",
        "sub_mean = sales_data - sales_mean\n",
        "sub_abs = abs(sales_data - sales_mean)\n",
        "average_idx = np.argmin(sub_abs)\n",
        "sales_average = sales_data[average_idx]\n",
        "score_sales = np.where(\n",
        "    sales_data < sales_mean,\n",
        "    \"Bad\",\n",
        "    np.where(sales_data > sales_average, \"Good\", \"Average\")\n",
        ")\n",
        "score_sales"
      ],
      "metadata": {
        "id": "jJnsxIuVjetJ",
        "outputId": "144efe28-5f1d-437d-c689-155f60137faa",
        "colab": {
          "base_uri": "https://localhost:8080/"
        }
      },
      "execution_count": 12,
      "outputs": [
        {
          "output_type": "execute_result",
          "data": {
            "text/plain": [
              "array(['Good', 'Bad', 'Bad', 'Average', 'Good'], dtype='<U7')"
            ]
          },
          "metadata": {},
          "execution_count": 12
        }
      ]
    }
  ]
}